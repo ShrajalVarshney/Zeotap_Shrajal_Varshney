{
  "nbformat": 4,
  "nbformat_minor": 0,
  "metadata": {
    "colab": {
      "provenance": []
    },
    "kernelspec": {
      "name": "python3",
      "display_name": "Python 3"
    },
    "language_info": {
      "name": "python"
    }
  },
  "cells": [
    {
      "cell_type": "code",
      "execution_count": 1,
      "metadata": {
        "id": "_wTx8dMYFRJJ"
      },
      "outputs": [],
      "source": [
        "import pandas as pd\n",
        "import numpy as np\n",
        "from sklearn.metrics.pairwise import cosine_similarity\n",
        "from sklearn.preprocessing import StandardScaler\n"
      ]
    },
    {
      "cell_type": "code",
      "source": [
        "# Load data\n",
        "customers_url = \"https://drive.google.com/uc?id=1bu_--mo79VdUG9oin4ybfFGRUSXAe-WE\"\n",
        "products_url = \"https://drive.google.com/uc?id=1IKuDizVapw-hyktwfpoAoaGtHtTNHfd0\"\n",
        "transactions_url = \"https://drive.google.com/uc?id=1saEqdbBB-vuk2hxoAf4TzDEsykdKlzbF\"\n",
        "\n",
        "customers = pd.read_csv(customers_url)\n",
        "products = pd.read_csv(products_url)\n",
        "transactions = pd.read_csv(transactions_url)"
      ],
      "metadata": {
        "id": "N3qP3IgzGGaM"
      },
      "execution_count": 2,
      "outputs": []
    },
    {
      "cell_type": "code",
      "source": [
        "# Merge data\n",
        "transactions['TransactionDate'] = pd.to_datetime(transactions['TransactionDate'])\n",
        "merged_data = transactions.merge(customers, on='CustomerID', how='left')\n",
        "merged_data = merged_data.merge(products, on='ProductID', how='left')\n"
      ],
      "metadata": {
        "id": "lxlipbQTGdZO"
      },
      "execution_count": 3,
      "outputs": []
    },
    {
      "cell_type": "code",
      "source": [
        "# Feature Engineering\n",
        "# Aggregate transaction data by customer\n",
        "customer_features = merged_data.groupby('CustomerID').agg({\n",
        "    'TotalValue': 'sum',\n",
        "    'Quantity': 'sum',\n",
        "    'Category': lambda x: x.value_counts().idxmax(),  # Most purchased category\n",
        "    'Region': 'first',\n",
        "    'SignupDate': 'first'\n",
        "}).reset_index()"
      ],
      "metadata": {
        "id": "TluTIFMNGkHs"
      },
      "execution_count": 4,
      "outputs": []
    },
    {
      "cell_type": "code",
      "source": [
        "# convert categorical data to numeric\n",
        "customer_features = pd.get_dummies(customer_features, columns=['Region', 'Category'], drop_first=True)\n"
      ],
      "metadata": {
        "id": "bTFbjw6uG2zL"
      },
      "execution_count": 5,
      "outputs": []
    },
    {
      "cell_type": "code",
      "source": [
        "# Standardize numerical features\n",
        "scaler = StandardScaler()\n",
        "numeric_cols = ['TotalValue', 'Quantity']\n",
        "customer_features[numeric_cols] = scaler.fit_transform(customer_features[numeric_cols])"
      ],
      "metadata": {
        "id": "CacNmBDPG974"
      },
      "execution_count": 6,
      "outputs": []
    },
    {
      "cell_type": "code",
      "source": [
        "# Compute similarity matrix\n",
        "customer_ids = customer_features['CustomerID']\n",
        "customer_features_matrix = customer_features.drop(['CustomerID', 'SignupDate'], axis=1)\n",
        "similarity_matrix = cosine_similarity(customer_features_matrix)\n"
      ],
      "metadata": {
        "id": "mGR0mYaEHDZ9"
      },
      "execution_count": 7,
      "outputs": []
    },
    {
      "cell_type": "code",
      "source": [
        "# Generate Lookalike Recommendations\n",
        "def get_top_lookalikes(customer_index, top_n=3):\n",
        "    similarities = similarity_matrix[customer_index]\n",
        "    similar_indices = similarities.argsort()[::-1][1:top_n+1]  # Exclude self (highest similarity)\n",
        "    similar_customers = [(customer_ids.iloc[i], similarities[i]) for i in similar_indices]\n",
        "    return similar_customers"
      ],
      "metadata": {
        "id": "bslQ1r7lHS1F"
      },
      "execution_count": 8,
      "outputs": []
    },
    {
      "cell_type": "code",
      "source": [
        "# Generate recommendations for the first 20 customers\n",
        "lookalike_results = {}\n",
        "for i in range(20):\n",
        "    cust_id = customer_ids.iloc[i]\n",
        "    lookalikes = get_top_lookalikes(i)\n",
        "    lookalike_results[cust_id] = lookalikes\n"
      ],
      "metadata": {
        "id": "GVZFbdOHHWUn"
      },
      "execution_count": 9,
      "outputs": []
    },
    {
      "cell_type": "code",
      "source": [
        "# Save results to Lookalike.csv\n",
        "lookalike_data = []\n",
        "for cust_id, lookalikes in lookalike_results.items():\n",
        "    for similar_cust_id, score in lookalikes:\n",
        "        lookalike_data.append({'cust_id': cust_id, 'similar_cust_id': similar_cust_id, 'score': score})\n",
        "\n",
        "lookalike_df = pd.DataFrame(lookalike_data)\n",
        "lookalike_df.to_csv('Lookalike.csv', index=False)\n",
        "\n",
        "print(\"Lookalike recommendations saved to Lookalike.csv.\")\n"
      ],
      "metadata": {
        "colab": {
          "base_uri": "https://localhost:8080/"
        },
        "id": "YQOAR2eVHaQN",
        "outputId": "b7cfd582-638b-44f9-bcf6-e777a675c9c4"
      },
      "execution_count": 10,
      "outputs": [
        {
          "output_type": "stream",
          "name": "stdout",
          "text": [
            "Lookalike recommendations saved to Lookalike.csv.\n"
          ]
        }
      ]
    }
  ]
}